{
  "nbformat": 4,
  "nbformat_minor": 0,
  "metadata": {
    "colab": {
      "provenance": []
    },
    "kernelspec": {
      "name": "python3",
      "display_name": "Python 3"
    },
    "language_info": {
      "name": "python"
    }
  },
  "cells": [
    {
      "cell_type": "markdown",
      "source": [
        "# Python Functions (Theoretical)"
      ],
      "metadata": {
        "id": "T1eXDBLddzld"
      }
    },
    {
      "cell_type": "markdown",
      "source": [
        "1. What is the difference between a function and a method in Python?\n",
        " - A function is a block of code that performs a task and is defined using def. It can be called on its own, like print() or your own custom def my_function():. A method is a function that's associated with object usually called using dot notation, like my_list.append(5). It “belongs” to a data type or class.\n",
        "\n",
        "2. Explain the concept of function arguments and parameters in Python.\n",
        " - Parameters are the names you give in a function definition to receive values. Arguments are the actual values you send to the function when you call it.\n",
        " Example: def add(a, b):          # 'a' and 'b' are parameters\n",
        "                       return a + b\n",
        "                   add(5, 3)      # 5 and 3 are arguments\n",
        "\n",
        "3. What are the different ways to define and call a function in Python?\n",
        " - Different way to define function:\n",
        "    \n",
        "    a) Normal function Define with def keyword:\n",
        "              def say_hello(name):\n",
        "                  print(\"Hello\", name)\n",
        "\n",
        "    b) Function with default value Gives a default if no value is passed:\n",
        "              def greet(name=\"Friend\"):\n",
        "                  print(\"Hi\", name)\n",
        "\n",
        "    c) Function with many values using *args Takes multiple values as a tuple:   \n",
        "              def total(*numbers):\n",
        "                  print(sum(numbers))\n",
        "\n",
        "    d) Function with keyword values using **kwargs Takes many key=value pairs as a dictionary:\n",
        "              def details(**info):\n",
        "                  print(info)\n",
        "\n",
        "    e) Lambda function (short one-line function):\n",
        "              square = lambda x: x ** 2\n",
        "    \n",
        "  - Different way to call function:\n",
        "    \n",
        "    a) Normal way:\n",
        "              say_hello(\"Debasis\")\n",
        "\n",
        "    b) With default value:\n",
        "              greet()\n",
        "\n",
        "    c) With multiple values:\n",
        "              total(1,2,3)\n",
        "\n",
        "    d) With keyword arguments:\n",
        "              details(name = \"Debasis Das\", age = 24)\n",
        "\n",
        "    e) Call lambda function:\n",
        "              print(square(4))\n",
        "\n",
        "\n",
        "4.  What is the purpose of the `return` statement in a Python function?\n",
        " - The return statement in Python is used to send a value back from a function to the place where it was called. It gives output from the function. It lets you store or use that result elsewhere in your program. Without return, the function just does the work but doesn't give anything back.\n",
        "  Example:\n",
        "           def add(a, b):\n",
        "             return a + b     # returns the sum\n",
        "           result = add(5, 3)\n",
        "           print(result)      # Output: 8\n",
        "\n",
        "5. What are iterators in Python and how do they differ from iterables?\n",
        " - An iterator is an object that remembers its position and lets you get the next value one at a time using next(). It has two methods: __iter__() and __next__(). Iterable gives you a fresh iterator every time. Iterator is used to fetch data one-by-one until it runs out (and raises StopIteration).\n",
        "  Example:\n",
        "           my_list = [1, 2, 3]      # This is an iterable  \n",
        "           my_iter = iter(my_list)  # This makes an iterator\n",
        "           print(next(my_iter))     # Output: 1\n",
        "           print(next(my_iter))     # Output: 2\n",
        "\n",
        "6. Explain the concept of generators in Python and how they are defined.\n",
        " - Generators in Python are a way to create iterators in a simple and memory-efficient way. Instead of generating all values at once and storing them in memory, generators yield one value at a time—perfect for working with large data sets or infinite sequences.\n",
        "  Example:\n",
        "          def count_up_to(n):\n",
        "                count = 1\n",
        "                while count <= n:\n",
        "                   yield count    # yields value instead of returning it\n",
        "                   count += 1\n",
        "          gen = count_up_to(3)\n",
        "          print(next(gen))   # Output: 1\n",
        "          print(next(gen))   # Output: 2\n",
        "          print(next(gen))   # Output: 3\n",
        "\n",
        "7. What are the advantages of using generators over regular functions?\n",
        " a) Memory Efficient They don’t store all values in memory—just yield    one at a time. Perfect for big data or infinite loops.\n",
        " b) Lazy Evaluation Values are produced only when needed, not all at once. That means faster startup and better performance.\n",
        " c) Simpler Code for Iterators No need to write classes with __iter__() and __next__()—just use yield and Python handles the rest.\n",
        " d) Maintain State Automatically Each time yield is called, the function pauses and remembers where it left off.\n",
        " e) Can Be Used in Loops You can directly loop over them using for just like lists or tuples:\n",
        "              for num in count_up_to(5):\n",
        "                      print(num)\n",
        "\n",
        "8. What is a lambda function in Python and when is it typically used?\n",
        " - A lambda function in Python is a small, anonymous function—that means it doesn't have a name like a regular def function. It's used for short tasks, especially when you need a quick function without writing a full def block.\n",
        "   Syntax:\n",
        "            lambda arguments: expression\n",
        "   Example:\n",
        "            square = lambda x: x ** 2\n",
        "            print(square(4))   # Output: 16\n",
        "\n",
        "  It is typically used for short, throwaway functions. Also used Inside functions like map(), filter(), sorted(), or reduce().\n",
        "    Example:\n",
        "            nums = [1, 2, 3, 4]\n",
        "            squared = list(map(lambda x: x**2, nums))\n",
        "            print(squared)  # Output: [1, 4, 9, 16]\n",
        "\n",
        "9. Explain the purpose and usage of the `map()` function in Python.\n",
        " - The map() function in Python is used to apply a function to every item in an iterable (like a list or tuple) and return a new iterable (a map object) with the results. To simplify looping through a collection and applying the same operation to each item—without writing an explicit for loop is the purpose of map() function in python.\n",
        "  Syntax:\n",
        "          map(function, iterable)\n",
        "  Example:\n",
        "           nums = [1, 2, 3, 4]\n",
        "           squared = list(map(lambda x: x**2, nums))\n",
        "           print(squared)   # Output: [1, 4, 9, 16]\n",
        "\n",
        "10. What is the difference between 'map()', 'reduce()', and 'filter()' functions in Python?\n",
        "\n",
        "  a) map():\n",
        "       Purpose: Applies a function to each item in an iterable.\n",
        "       Returns: A new iterable with the transformed values.\n",
        "       Example:\n",
        "                nums = [1, 2, 3]\n",
        "                result = list(map(lambda x: x * 2, nums))\n",
        "                print(results) # [2, 4, 6]\n",
        "\n",
        "  b) reduce():\n",
        "       Purpose: Applies a function cumulatively, reducing the iterable to a single value.\n",
        "       Returns: One final result.\n",
        "       Example:\n",
        "                from functools import reduce\n",
        "                nums = [1, 2, 3, 4]\n",
        "                result = reduce(lambda x, y: x + y, nums)\n",
        "                print(results)  # 10\n",
        "\n",
        "  c) filter():\n",
        "       Purpose: Applies a function to each item and keeps only the True ones.\n",
        "       Returns: A new iterable with filtered values.\n",
        "       Example:\n",
        "                nums = [1, 2, 3, 4]\n",
        "                result = list(filter(lambda x: x % 2 == 0, nums))\n",
        "                print(results)  # [2, 4]\n",
        "\n",
        "11. Using pen & Paper write the internal mechanism for sum operation using  reduce function on this given list:[47,11,42,13].\n",
        " - Let’s break down how the reduce() function works step-by-step on list [47, 11, 42, 13]\n",
        "   Python Code:\n",
        "                from functools import reduce\n",
        "                result = reduce(lambda x, y: x + y, [47, 11, 42, 13])\n",
        "                print(result)  #113\n",
        "  a) Start with the first two elements: x = 47, y = 11 → x + y = 58\n",
        "  b) Take that result (58) and add the next item (42): x = 58, y = 42 → x + y = 100.\n",
        "  c) Now take 100 and add the final element (13): x = 100, y = 13 → x + y = 113\n",
        "  d) We get the final result 113 which is output.\n",
        "\n",
        "           "
      ],
      "metadata": {
        "id": "Va3qxTl5d5zf"
      }
    },
    {
      "cell_type": "markdown",
      "source": [
        "#Python Functions (Practical)"
      ],
      "metadata": {
        "id": "8819SybpxSKD"
      }
    },
    {
      "cell_type": "code",
      "source": [
        "# Write a Python function that takes a list of numbers as input and returns the sum of all even numbers in the list.\n",
        "def sum_of_even(numbers):\n",
        "    return sum(a for a in numbers if a % 2 == 0)\n",
        "my_list = [1,2,3,4,5,6,7,8,9,10,11,12,13,14,15,16,17,18,19,20,21]\n",
        "print(sum_of_even(my_list))"
      ],
      "metadata": {
        "colab": {
          "base_uri": "https://localhost:8080/"
        },
        "id": "-B0C7cYXxiAj",
        "outputId": "3a279734-de9b-4f3b-c163-b21f41c7b7a4"
      },
      "execution_count": 7,
      "outputs": [
        {
          "output_type": "stream",
          "name": "stdout",
          "text": [
            "110\n"
          ]
        }
      ]
    },
    {
      "cell_type": "code",
      "source": [
        "# Create a Python function that accepts a string and returns the reverse of that string.\n",
        "def rev_str(strings):\n",
        "    return strings[::-1]\n",
        "my_strings = \"debasis das\"\n",
        "print(rev_str(my_strings))"
      ],
      "metadata": {
        "colab": {
          "base_uri": "https://localhost:8080/"
        },
        "id": "QA9vWDBHxhyo",
        "outputId": "42e1c3cf-fa21-42f9-e7a0-dba2f6cf2e98"
      },
      "execution_count": 9,
      "outputs": [
        {
          "output_type": "stream",
          "name": "stdout",
          "text": [
            "sad sisabed\n"
          ]
        }
      ]
    },
    {
      "cell_type": "code",
      "source": [
        "# Implement a Python function that takes a list of integers and returns a new list containing the squares of each number.\n",
        "def square_list(nums):\n",
        "      return [a**2 for a in nums]\n",
        "my_list = [1,3,5,7,9,11,13]\n",
        "print(square_list(my_list))"
      ],
      "metadata": {
        "colab": {
          "base_uri": "https://localhost:8080/"
        },
        "id": "JX1BZHWDxfnv",
        "outputId": "6df432eb-87e0-4b46-b892-913e376aec03"
      },
      "execution_count": 10,
      "outputs": [
        {
          "output_type": "stream",
          "name": "stdout",
          "text": [
            "[1, 9, 25, 49, 81, 121, 169]\n"
          ]
        }
      ]
    },
    {
      "cell_type": "code",
      "source": [
        "# Write a Python function that checks if a given number is prime or not from 1 to 200.\n",
        "def is_prime(n):\n",
        "    if n < 2:\n",
        "        return False\n",
        "    for i in range(2, int(n**0.5) + 1):  # check up to sqrt(n)\n",
        "        if n % i == 0:\n",
        "            return False\n",
        "    return True\n",
        "\n",
        "print(is_prime(2))\n",
        "print(is_prime(52))"
      ],
      "metadata": {
        "colab": {
          "base_uri": "https://localhost:8080/"
        },
        "id": "WfB1hJjjxffD",
        "outputId": "1f9c0de1-3f1d-4a73-b0c1-541552e38ef5"
      },
      "execution_count": 17,
      "outputs": [
        {
          "output_type": "stream",
          "name": "stdout",
          "text": [
            "True\n",
            "False\n"
          ]
        }
      ]
    },
    {
      "cell_type": "code",
      "source": [
        "# Create an iterator class in Python that generates the Fibonacci sequence up to a specified number of terms.\n",
        "class FibonacciIterator:\n",
        "    def __init__(self, max_terms):\n",
        "        self.max_terms = max_terms\n",
        "        self.count = 0\n",
        "        self.a, self.b = 0, 1\n",
        "\n",
        "    def __iter__(self):\n",
        "        return self\n",
        "\n",
        "    def __next__(self):\n",
        "        if self.count >= self.max_terms:\n",
        "            raise StopIteration\n",
        "        fib = self.a\n",
        "        self.a, self.b = self.b, self.a + self.b\n",
        "        self.count += 1\n",
        "        return fib\n",
        "\n",
        "fib_iter = FibonacciIterator(10)\n",
        "for num in fib_iter:\n",
        "    print(num)"
      ],
      "metadata": {
        "colab": {
          "base_uri": "https://localhost:8080/"
        },
        "id": "Ragw0Ux-xfVd",
        "outputId": "8294443e-75d2-44e1-fc09-e518526d3b33"
      },
      "execution_count": 20,
      "outputs": [
        {
          "output_type": "stream",
          "name": "stdout",
          "text": [
            "0\n",
            "1\n",
            "1\n",
            "2\n",
            "3\n",
            "5\n",
            "8\n",
            "13\n",
            "21\n",
            "34\n"
          ]
        }
      ]
    },
    {
      "cell_type": "code",
      "source": [
        "# Write a generator function in Python that yields the powers of 2 up to a given exponent.\n",
        "def po_2(ex):\n",
        "    for i in range(ex + 1):\n",
        "        yield 2 ** i\n",
        "for power in po_2(5):\n",
        "    print(power)"
      ],
      "metadata": {
        "colab": {
          "base_uri": "https://localhost:8080/"
        },
        "id": "WHQ1xlN3xfMq",
        "outputId": "b25be104-c6ea-4534-f83f-a127acc90ee5"
      },
      "execution_count": 22,
      "outputs": [
        {
          "output_type": "stream",
          "name": "stdout",
          "text": [
            "1\n",
            "2\n",
            "4\n",
            "8\n",
            "16\n",
            "32\n"
          ]
        }
      ]
    },
    {
      "cell_type": "code",
      "source": [
        "# Implement a generator function that reads a file line by line and yields each line as a string.\n",
        "def read_file(file_path):\n",
        "   with open(file_path, 'r') as file:\n",
        "        for line in file:\n",
        "            yield line.strip()\n"
      ],
      "metadata": {
        "id": "iYZg2C69xfEx"
      },
      "execution_count": null,
      "outputs": []
    },
    {
      "cell_type": "code",
      "source": [
        "# Use a lambda function in Python to sort a list of tuples based on the second element of each tuple.\n",
        "data = [(1, 3), (4, 1), (2, 5), (3, 2)]\n",
        "sorted_data = sorted(data, key=lambda x: x[1])\n",
        "print(sorted_data)"
      ],
      "metadata": {
        "colab": {
          "base_uri": "https://localhost:8080/"
        },
        "id": "0EhZ6S7Pxe7c",
        "outputId": "d41be687-9a96-4fe5-bc62-285139c2741d"
      },
      "execution_count": 29,
      "outputs": [
        {
          "output_type": "stream",
          "name": "stdout",
          "text": [
            "[(4, 1), (3, 2), (1, 3), (2, 5)]\n"
          ]
        }
      ]
    },
    {
      "cell_type": "code",
      "source": [
        "# Write a Python program that uses 'map()' to convert a list of temperatures from Celsius to Fahrenheit.\n",
        "c_temp = [0, 20, 37, 100]\n",
        "f_temp = list(map(lambda x: (x * 9/5) + 32, c_temp))\n",
        "print(f_temp)"
      ],
      "metadata": {
        "colab": {
          "base_uri": "https://localhost:8080/"
        },
        "id": "JsnrUQ9Gxd-m",
        "outputId": "6f56bdd3-877f-46b8-d7fa-b75a6f707fd2"
      },
      "execution_count": 31,
      "outputs": [
        {
          "output_type": "stream",
          "name": "stdout",
          "text": [
            "[32.0, 68.0, 98.6, 212.0]\n"
          ]
        }
      ]
    },
    {
      "cell_type": "code",
      "source": [
        "# Create a Python program that uses 'filter()' to remove all the vowels from a given string.\n",
        "def remove_vowels(string):\n",
        "    vowels = 'aeiouAEIOU'\n",
        "    return ''.join(filter(lambda x: x not in vowels, string))\n",
        "text = \"Hello World, Python is amazing!\"\n",
        "result = remove_vowels(text)\n",
        "print(\"String without vowels:\", result)"
      ],
      "metadata": {
        "colab": {
          "base_uri": "https://localhost:8080/"
        },
        "id": "i181ofZfxeWa",
        "outputId": "74a5a88d-320e-4045-dc89-d58410ffa03d"
      },
      "execution_count": 33,
      "outputs": [
        {
          "output_type": "stream",
          "name": "stdout",
          "text": [
            "String without vowels: Hll Wrld, Pythn s mzng!\n"
          ]
        }
      ]
    },
    {
      "cell_type": "code",
      "execution_count": 6,
      "metadata": {
        "colab": {
          "base_uri": "https://localhost:8080/"
        },
        "id": "F-EmyihUdf9g",
        "outputId": "bde24f36-456c-4d89-9775-b5a7d303a1f5"
      },
      "outputs": [
        {
          "output_type": "stream",
          "name": "stdout",
          "text": [
            "[(34587, 173.8), (98762, 294.0), (77226, 108.85000000000001), (88112, 84.97)]\n"
          ]
        }
      ],
      "source": [
        "'''Write a Python program, which returns a list with 2-tuples. Each tuple consists of the order number and the\n",
        "product of the price per item and the quantity. The product should be increased by 10,- € if the value of the\n",
        "order is smaller than 100,00 €. '''\n",
        "orders = [\n",
        "     (34587, \"Learning Python, Mark Lutz\", 4, 40.95),\n",
        "     (98762, \"Programming Python, Mark Lutz\", 5, 56.80),\n",
        "     (77226, \"Head First Python, Paul Barry\", 3, 32.95),\n",
        "     (88112, \"Einführung in Python3, Bernd Klein\", 3, 24.99)\n",
        " ]\n",
        "results = list(map(lambda x: (x[0], x[2] * x[3] if x[2] * x[3] >= 10000 else x[3] * x[2] + 10), orders))\n",
        "print(results)"
      ]
    }
  ]
}